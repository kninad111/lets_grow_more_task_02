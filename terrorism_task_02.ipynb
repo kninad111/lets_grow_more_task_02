{
 "cells": [
  {
   "cell_type": "markdown",
   "id": "58382470",
   "metadata": {},
   "source": [
    "# Flow of algorithm:\n",
    "\n",
    "### Importing the dataset and important libraries.\n",
    "### Understanding the data and its features.\n",
    "### Preprocessing the data.\n",
    "### Visualizations which would help us understand the insights.\n",
    "### Final summary of results."
   ]
  },
  {
   "cell_type": "code",
   "execution_count": 121,
   "id": "8e86c7ea",
   "metadata": {},
   "outputs": [],
   "source": [
    "#Importing necessary libraries.\n",
    "\n",
    "import pandas as pd\n",
    "import numpy as np\n",
    "import seaborn as sb\n",
    "from matplotlib import pyplot as plt\n",
    "%matplotlib inline \n"
   ]
  },
  {
   "cell_type": "code",
   "execution_count": 122,
   "id": "53a7da96",
   "metadata": {},
   "outputs": [
    {
     "name": "stderr",
     "output_type": "stream",
     "text": [
      "C:\\Users\\hp\\AppData\\Roaming\\Python\\Python39\\site-packages\\IPython\\core\\interactiveshell.py:3251: DtypeWarning: Columns (4,6,31,33,61,62,63,76,79,90,92,94,96,114,115,121) have mixed types.Specify dtype option on import or set low_memory=False.\n",
      "  exec(code_obj, self.user_global_ns, self.user_ns)\n"
     ]
    },
    {
     "data": {
      "text/html": [
       "<div>\n",
       "<style scoped>\n",
       "    .dataframe tbody tr th:only-of-type {\n",
       "        vertical-align: middle;\n",
       "    }\n",
       "\n",
       "    .dataframe tbody tr th {\n",
       "        vertical-align: top;\n",
       "    }\n",
       "\n",
       "    .dataframe thead th {\n",
       "        text-align: right;\n",
       "    }\n",
       "</style>\n",
       "<table border=\"1\" class=\"dataframe\">\n",
       "  <thead>\n",
       "    <tr style=\"text-align: right;\">\n",
       "      <th></th>\n",
       "      <th>eventid</th>\n",
       "      <th>iyear</th>\n",
       "      <th>imonth</th>\n",
       "      <th>iday</th>\n",
       "      <th>approxdate</th>\n",
       "      <th>extended</th>\n",
       "      <th>resolution</th>\n",
       "      <th>country</th>\n",
       "      <th>country_txt</th>\n",
       "      <th>region</th>\n",
       "      <th>...</th>\n",
       "      <th>addnotes</th>\n",
       "      <th>scite1</th>\n",
       "      <th>scite2</th>\n",
       "      <th>scite3</th>\n",
       "      <th>dbsource</th>\n",
       "      <th>INT_LOG</th>\n",
       "      <th>INT_IDEO</th>\n",
       "      <th>INT_MISC</th>\n",
       "      <th>INT_ANY</th>\n",
       "      <th>related</th>\n",
       "    </tr>\n",
       "  </thead>\n",
       "  <tbody>\n",
       "    <tr>\n",
       "      <th>0</th>\n",
       "      <td>197000000001</td>\n",
       "      <td>1970</td>\n",
       "      <td>7</td>\n",
       "      <td>2</td>\n",
       "      <td>NaN</td>\n",
       "      <td>0</td>\n",
       "      <td>NaN</td>\n",
       "      <td>58</td>\n",
       "      <td>Dominican Republic</td>\n",
       "      <td>2</td>\n",
       "      <td>...</td>\n",
       "      <td>NaN</td>\n",
       "      <td>NaN</td>\n",
       "      <td>NaN</td>\n",
       "      <td>NaN</td>\n",
       "      <td>PGIS</td>\n",
       "      <td>0</td>\n",
       "      <td>0</td>\n",
       "      <td>0</td>\n",
       "      <td>0</td>\n",
       "      <td>NaN</td>\n",
       "    </tr>\n",
       "    <tr>\n",
       "      <th>1</th>\n",
       "      <td>197000000002</td>\n",
       "      <td>1970</td>\n",
       "      <td>0</td>\n",
       "      <td>0</td>\n",
       "      <td>NaN</td>\n",
       "      <td>0</td>\n",
       "      <td>NaN</td>\n",
       "      <td>130</td>\n",
       "      <td>Mexico</td>\n",
       "      <td>1</td>\n",
       "      <td>...</td>\n",
       "      <td>NaN</td>\n",
       "      <td>NaN</td>\n",
       "      <td>NaN</td>\n",
       "      <td>NaN</td>\n",
       "      <td>PGIS</td>\n",
       "      <td>0</td>\n",
       "      <td>1</td>\n",
       "      <td>1</td>\n",
       "      <td>1</td>\n",
       "      <td>NaN</td>\n",
       "    </tr>\n",
       "    <tr>\n",
       "      <th>2</th>\n",
       "      <td>197001000001</td>\n",
       "      <td>1970</td>\n",
       "      <td>1</td>\n",
       "      <td>0</td>\n",
       "      <td>NaN</td>\n",
       "      <td>0</td>\n",
       "      <td>NaN</td>\n",
       "      <td>160</td>\n",
       "      <td>Philippines</td>\n",
       "      <td>5</td>\n",
       "      <td>...</td>\n",
       "      <td>NaN</td>\n",
       "      <td>NaN</td>\n",
       "      <td>NaN</td>\n",
       "      <td>NaN</td>\n",
       "      <td>PGIS</td>\n",
       "      <td>-9</td>\n",
       "      <td>-9</td>\n",
       "      <td>1</td>\n",
       "      <td>1</td>\n",
       "      <td>NaN</td>\n",
       "    </tr>\n",
       "    <tr>\n",
       "      <th>3</th>\n",
       "      <td>197001000002</td>\n",
       "      <td>1970</td>\n",
       "      <td>1</td>\n",
       "      <td>0</td>\n",
       "      <td>NaN</td>\n",
       "      <td>0</td>\n",
       "      <td>NaN</td>\n",
       "      <td>78</td>\n",
       "      <td>Greece</td>\n",
       "      <td>8</td>\n",
       "      <td>...</td>\n",
       "      <td>NaN</td>\n",
       "      <td>NaN</td>\n",
       "      <td>NaN</td>\n",
       "      <td>NaN</td>\n",
       "      <td>PGIS</td>\n",
       "      <td>-9</td>\n",
       "      <td>-9</td>\n",
       "      <td>1</td>\n",
       "      <td>1</td>\n",
       "      <td>NaN</td>\n",
       "    </tr>\n",
       "    <tr>\n",
       "      <th>4</th>\n",
       "      <td>197001000003</td>\n",
       "      <td>1970</td>\n",
       "      <td>1</td>\n",
       "      <td>0</td>\n",
       "      <td>NaN</td>\n",
       "      <td>0</td>\n",
       "      <td>NaN</td>\n",
       "      <td>101</td>\n",
       "      <td>Japan</td>\n",
       "      <td>4</td>\n",
       "      <td>...</td>\n",
       "      <td>NaN</td>\n",
       "      <td>NaN</td>\n",
       "      <td>NaN</td>\n",
       "      <td>NaN</td>\n",
       "      <td>PGIS</td>\n",
       "      <td>-9</td>\n",
       "      <td>-9</td>\n",
       "      <td>1</td>\n",
       "      <td>1</td>\n",
       "      <td>NaN</td>\n",
       "    </tr>\n",
       "  </tbody>\n",
       "</table>\n",
       "<p>5 rows × 135 columns</p>\n",
       "</div>"
      ],
      "text/plain": [
       "        eventid  iyear  imonth  iday approxdate  extended resolution  country  \\\n",
       "0  197000000001   1970       7     2        NaN         0        NaN       58   \n",
       "1  197000000002   1970       0     0        NaN         0        NaN      130   \n",
       "2  197001000001   1970       1     0        NaN         0        NaN      160   \n",
       "3  197001000002   1970       1     0        NaN         0        NaN       78   \n",
       "4  197001000003   1970       1     0        NaN         0        NaN      101   \n",
       "\n",
       "          country_txt  region  ... addnotes scite1 scite2  scite3  dbsource  \\\n",
       "0  Dominican Republic       2  ...      NaN    NaN    NaN     NaN      PGIS   \n",
       "1              Mexico       1  ...      NaN    NaN    NaN     NaN      PGIS   \n",
       "2         Philippines       5  ...      NaN    NaN    NaN     NaN      PGIS   \n",
       "3              Greece       8  ...      NaN    NaN    NaN     NaN      PGIS   \n",
       "4               Japan       4  ...      NaN    NaN    NaN     NaN      PGIS   \n",
       "\n",
       "   INT_LOG  INT_IDEO INT_MISC INT_ANY  related  \n",
       "0        0         0        0       0      NaN  \n",
       "1        0         1        1       1      NaN  \n",
       "2       -9        -9        1       1      NaN  \n",
       "3       -9        -9        1       1      NaN  \n",
       "4       -9        -9        1       1      NaN  \n",
       "\n",
       "[5 rows x 135 columns]"
      ]
     },
     "execution_count": 122,
     "metadata": {},
     "output_type": "execute_result"
    }
   ],
   "source": [
    "df= pd.read_csv('global_terrorism.csv', encoding=\"ISO-8859-1\")\n",
    "\n",
    "#Printing first 5 instances of the dataset.\n",
    "df.head()"
   ]
  },
  {
   "cell_type": "code",
   "execution_count": 123,
   "id": "a61615e6",
   "metadata": {},
   "outputs": [
    {
     "data": {
      "text/plain": [
       "(181691, 135)"
      ]
     },
     "execution_count": 123,
     "metadata": {},
     "output_type": "execute_result"
    }
   ],
   "source": [
    "#No of rows and columns. \n",
    "df.shape"
   ]
  },
  {
   "cell_type": "code",
   "execution_count": 124,
   "id": "bc3ae421",
   "metadata": {},
   "outputs": [
    {
     "data": {
      "text/plain": [
       "array(['eventid', 'iyear', 'imonth', 'iday', 'approxdate', 'extended',\n",
       "       'resolution', 'country', 'country_txt', 'region', 'region_txt',\n",
       "       'provstate', 'city', 'latitude', 'longitude', 'specificity',\n",
       "       'vicinity', 'location', 'summary', 'crit1', 'crit2', 'crit3',\n",
       "       'doubtterr', 'alternative', 'alternative_txt', 'multiple',\n",
       "       'success', 'suicide', 'attacktype1', 'attacktype1_txt',\n",
       "       'attacktype2', 'attacktype2_txt', 'attacktype3', 'attacktype3_txt',\n",
       "       'targtype1', 'targtype1_txt', 'targsubtype1', 'targsubtype1_txt',\n",
       "       'corp1', 'target1', 'natlty1', 'natlty1_txt', 'targtype2',\n",
       "       'targtype2_txt', 'targsubtype2', 'targsubtype2_txt', 'corp2',\n",
       "       'target2', 'natlty2', 'natlty2_txt', 'targtype3', 'targtype3_txt',\n",
       "       'targsubtype3', 'targsubtype3_txt', 'corp3', 'target3', 'natlty3',\n",
       "       'natlty3_txt', 'gname', 'gsubname', 'gname2', 'gsubname2',\n",
       "       'gname3', 'gsubname3', 'motive', 'guncertain1', 'guncertain2',\n",
       "       'guncertain3', 'individual', 'nperps', 'nperpcap', 'claimed',\n",
       "       'claimmode', 'claimmode_txt', 'claim2', 'claimmode2',\n",
       "       'claimmode2_txt', 'claim3', 'claimmode3', 'claimmode3_txt',\n",
       "       'compclaim', 'weaptype1', 'weaptype1_txt', 'weapsubtype1',\n",
       "       'weapsubtype1_txt', 'weaptype2', 'weaptype2_txt', 'weapsubtype2',\n",
       "       'weapsubtype2_txt', 'weaptype3', 'weaptype3_txt', 'weapsubtype3',\n",
       "       'weapsubtype3_txt', 'weaptype4', 'weaptype4_txt', 'weapsubtype4',\n",
       "       'weapsubtype4_txt', 'weapdetail', 'nkill', 'nkillus', 'nkillter',\n",
       "       'nwound', 'nwoundus', 'nwoundte', 'property', 'propextent',\n",
       "       'propextent_txt', 'propvalue', 'propcomment', 'ishostkid',\n",
       "       'nhostkid', 'nhostkidus', 'nhours', 'ndays', 'divert',\n",
       "       'kidhijcountry', 'ransom', 'ransomamt', 'ransomamtus',\n",
       "       'ransompaid', 'ransompaidus', 'ransomnote', 'hostkidoutcome',\n",
       "       'hostkidoutcome_txt', 'nreleased', 'addnotes', 'scite1', 'scite2',\n",
       "       'scite3', 'dbsource', 'INT_LOG', 'INT_IDEO', 'INT_MISC', 'INT_ANY',\n",
       "       'related'], dtype=object)"
      ]
     },
     "execution_count": 124,
     "metadata": {},
     "output_type": "execute_result"
    }
   ],
   "source": [
    "#Names of all the columns.\n",
    "df.columns.values"
   ]
  },
  {
   "cell_type": "code",
   "execution_count": 125,
   "id": "2dda812e",
   "metadata": {},
   "outputs": [
    {
     "data": {
      "text/html": [
       "<div>\n",
       "<style scoped>\n",
       "    .dataframe tbody tr th:only-of-type {\n",
       "        vertical-align: middle;\n",
       "    }\n",
       "\n",
       "    .dataframe tbody tr th {\n",
       "        vertical-align: top;\n",
       "    }\n",
       "\n",
       "    .dataframe thead th {\n",
       "        text-align: right;\n",
       "    }\n",
       "</style>\n",
       "<table border=\"1\" class=\"dataframe\">\n",
       "  <thead>\n",
       "    <tr style=\"text-align: right;\">\n",
       "      <th></th>\n",
       "      <th>iyear</th>\n",
       "      <th>imonth</th>\n",
       "      <th>iday</th>\n",
       "      <th>approxdate</th>\n",
       "      <th>extended</th>\n",
       "      <th>resolution</th>\n",
       "      <th>country</th>\n",
       "      <th>country_txt</th>\n",
       "      <th>region</th>\n",
       "      <th>region_txt</th>\n",
       "      <th>...</th>\n",
       "      <th>addnotes</th>\n",
       "      <th>scite1</th>\n",
       "      <th>scite2</th>\n",
       "      <th>scite3</th>\n",
       "      <th>dbsource</th>\n",
       "      <th>INT_LOG</th>\n",
       "      <th>INT_IDEO</th>\n",
       "      <th>INT_MISC</th>\n",
       "      <th>INT_ANY</th>\n",
       "      <th>related</th>\n",
       "    </tr>\n",
       "  </thead>\n",
       "  <tbody>\n",
       "    <tr>\n",
       "      <th>0</th>\n",
       "      <td>1970</td>\n",
       "      <td>7</td>\n",
       "      <td>2</td>\n",
       "      <td>NaN</td>\n",
       "      <td>0</td>\n",
       "      <td>NaN</td>\n",
       "      <td>58</td>\n",
       "      <td>Dominican Republic</td>\n",
       "      <td>2</td>\n",
       "      <td>Central America &amp; Caribbean</td>\n",
       "      <td>...</td>\n",
       "      <td>NaN</td>\n",
       "      <td>NaN</td>\n",
       "      <td>NaN</td>\n",
       "      <td>NaN</td>\n",
       "      <td>PGIS</td>\n",
       "      <td>0</td>\n",
       "      <td>0</td>\n",
       "      <td>0</td>\n",
       "      <td>0</td>\n",
       "      <td>NaN</td>\n",
       "    </tr>\n",
       "    <tr>\n",
       "      <th>1</th>\n",
       "      <td>1970</td>\n",
       "      <td>0</td>\n",
       "      <td>0</td>\n",
       "      <td>NaN</td>\n",
       "      <td>0</td>\n",
       "      <td>NaN</td>\n",
       "      <td>130</td>\n",
       "      <td>Mexico</td>\n",
       "      <td>1</td>\n",
       "      <td>North America</td>\n",
       "      <td>...</td>\n",
       "      <td>NaN</td>\n",
       "      <td>NaN</td>\n",
       "      <td>NaN</td>\n",
       "      <td>NaN</td>\n",
       "      <td>PGIS</td>\n",
       "      <td>0</td>\n",
       "      <td>1</td>\n",
       "      <td>1</td>\n",
       "      <td>1</td>\n",
       "      <td>NaN</td>\n",
       "    </tr>\n",
       "    <tr>\n",
       "      <th>2</th>\n",
       "      <td>1970</td>\n",
       "      <td>1</td>\n",
       "      <td>0</td>\n",
       "      <td>NaN</td>\n",
       "      <td>0</td>\n",
       "      <td>NaN</td>\n",
       "      <td>160</td>\n",
       "      <td>Philippines</td>\n",
       "      <td>5</td>\n",
       "      <td>Southeast Asia</td>\n",
       "      <td>...</td>\n",
       "      <td>NaN</td>\n",
       "      <td>NaN</td>\n",
       "      <td>NaN</td>\n",
       "      <td>NaN</td>\n",
       "      <td>PGIS</td>\n",
       "      <td>-9</td>\n",
       "      <td>-9</td>\n",
       "      <td>1</td>\n",
       "      <td>1</td>\n",
       "      <td>NaN</td>\n",
       "    </tr>\n",
       "    <tr>\n",
       "      <th>3</th>\n",
       "      <td>1970</td>\n",
       "      <td>1</td>\n",
       "      <td>0</td>\n",
       "      <td>NaN</td>\n",
       "      <td>0</td>\n",
       "      <td>NaN</td>\n",
       "      <td>78</td>\n",
       "      <td>Greece</td>\n",
       "      <td>8</td>\n",
       "      <td>Western Europe</td>\n",
       "      <td>...</td>\n",
       "      <td>NaN</td>\n",
       "      <td>NaN</td>\n",
       "      <td>NaN</td>\n",
       "      <td>NaN</td>\n",
       "      <td>PGIS</td>\n",
       "      <td>-9</td>\n",
       "      <td>-9</td>\n",
       "      <td>1</td>\n",
       "      <td>1</td>\n",
       "      <td>NaN</td>\n",
       "    </tr>\n",
       "    <tr>\n",
       "      <th>4</th>\n",
       "      <td>1970</td>\n",
       "      <td>1</td>\n",
       "      <td>0</td>\n",
       "      <td>NaN</td>\n",
       "      <td>0</td>\n",
       "      <td>NaN</td>\n",
       "      <td>101</td>\n",
       "      <td>Japan</td>\n",
       "      <td>4</td>\n",
       "      <td>East Asia</td>\n",
       "      <td>...</td>\n",
       "      <td>NaN</td>\n",
       "      <td>NaN</td>\n",
       "      <td>NaN</td>\n",
       "      <td>NaN</td>\n",
       "      <td>PGIS</td>\n",
       "      <td>-9</td>\n",
       "      <td>-9</td>\n",
       "      <td>1</td>\n",
       "      <td>1</td>\n",
       "      <td>NaN</td>\n",
       "    </tr>\n",
       "    <tr>\n",
       "      <th>...</th>\n",
       "      <td>...</td>\n",
       "      <td>...</td>\n",
       "      <td>...</td>\n",
       "      <td>...</td>\n",
       "      <td>...</td>\n",
       "      <td>...</td>\n",
       "      <td>...</td>\n",
       "      <td>...</td>\n",
       "      <td>...</td>\n",
       "      <td>...</td>\n",
       "      <td>...</td>\n",
       "      <td>...</td>\n",
       "      <td>...</td>\n",
       "      <td>...</td>\n",
       "      <td>...</td>\n",
       "      <td>...</td>\n",
       "      <td>...</td>\n",
       "      <td>...</td>\n",
       "      <td>...</td>\n",
       "      <td>...</td>\n",
       "      <td>...</td>\n",
       "    </tr>\n",
       "    <tr>\n",
       "      <th>181686</th>\n",
       "      <td>2017</td>\n",
       "      <td>12</td>\n",
       "      <td>31</td>\n",
       "      <td>NaN</td>\n",
       "      <td>0</td>\n",
       "      <td>NaN</td>\n",
       "      <td>182</td>\n",
       "      <td>Somalia</td>\n",
       "      <td>11</td>\n",
       "      <td>Sub-Saharan Africa</td>\n",
       "      <td>...</td>\n",
       "      <td>NaN</td>\n",
       "      <td>\"Somalia: Al-Shabaab Militants Attack Army Che...</td>\n",
       "      <td>\"Highlights: Somalia Daily Media Highlights 2 ...</td>\n",
       "      <td>\"Highlights: Somalia Daily Media Highlights 1 ...</td>\n",
       "      <td>START Primary Collection</td>\n",
       "      <td>0</td>\n",
       "      <td>0</td>\n",
       "      <td>0</td>\n",
       "      <td>0</td>\n",
       "      <td>NaN</td>\n",
       "    </tr>\n",
       "    <tr>\n",
       "      <th>181687</th>\n",
       "      <td>2017</td>\n",
       "      <td>12</td>\n",
       "      <td>31</td>\n",
       "      <td>NaN</td>\n",
       "      <td>0</td>\n",
       "      <td>NaN</td>\n",
       "      <td>200</td>\n",
       "      <td>Syria</td>\n",
       "      <td>10</td>\n",
       "      <td>Middle East &amp; North Africa</td>\n",
       "      <td>...</td>\n",
       "      <td>NaN</td>\n",
       "      <td>\"Putin's 'victory' in Syria has turned into a ...</td>\n",
       "      <td>\"Two Russian soldiers killed at Hmeymim base i...</td>\n",
       "      <td>\"Two Russian servicemen killed in Syria mortar...</td>\n",
       "      <td>START Primary Collection</td>\n",
       "      <td>-9</td>\n",
       "      <td>-9</td>\n",
       "      <td>1</td>\n",
       "      <td>1</td>\n",
       "      <td>NaN</td>\n",
       "    </tr>\n",
       "    <tr>\n",
       "      <th>181688</th>\n",
       "      <td>2017</td>\n",
       "      <td>12</td>\n",
       "      <td>31</td>\n",
       "      <td>NaN</td>\n",
       "      <td>0</td>\n",
       "      <td>NaN</td>\n",
       "      <td>160</td>\n",
       "      <td>Philippines</td>\n",
       "      <td>5</td>\n",
       "      <td>Southeast Asia</td>\n",
       "      <td>...</td>\n",
       "      <td>NaN</td>\n",
       "      <td>\"Maguindanao clashes trap tribe members,\" Phil...</td>\n",
       "      <td>NaN</td>\n",
       "      <td>NaN</td>\n",
       "      <td>START Primary Collection</td>\n",
       "      <td>0</td>\n",
       "      <td>0</td>\n",
       "      <td>0</td>\n",
       "      <td>0</td>\n",
       "      <td>NaN</td>\n",
       "    </tr>\n",
       "    <tr>\n",
       "      <th>181689</th>\n",
       "      <td>2017</td>\n",
       "      <td>12</td>\n",
       "      <td>31</td>\n",
       "      <td>NaN</td>\n",
       "      <td>0</td>\n",
       "      <td>NaN</td>\n",
       "      <td>92</td>\n",
       "      <td>India</td>\n",
       "      <td>6</td>\n",
       "      <td>South Asia</td>\n",
       "      <td>...</td>\n",
       "      <td>NaN</td>\n",
       "      <td>\"Trader escapes grenade attack in Imphal,\" Bus...</td>\n",
       "      <td>NaN</td>\n",
       "      <td>NaN</td>\n",
       "      <td>START Primary Collection</td>\n",
       "      <td>-9</td>\n",
       "      <td>-9</td>\n",
       "      <td>0</td>\n",
       "      <td>-9</td>\n",
       "      <td>NaN</td>\n",
       "    </tr>\n",
       "    <tr>\n",
       "      <th>181690</th>\n",
       "      <td>2017</td>\n",
       "      <td>12</td>\n",
       "      <td>31</td>\n",
       "      <td>NaN</td>\n",
       "      <td>0</td>\n",
       "      <td>NaN</td>\n",
       "      <td>160</td>\n",
       "      <td>Philippines</td>\n",
       "      <td>5</td>\n",
       "      <td>Southeast Asia</td>\n",
       "      <td>...</td>\n",
       "      <td>NaN</td>\n",
       "      <td>\"Security tightened in Cotabato following IED ...</td>\n",
       "      <td>\"Security tightened in Cotabato City,\" Manila ...</td>\n",
       "      <td>NaN</td>\n",
       "      <td>START Primary Collection</td>\n",
       "      <td>-9</td>\n",
       "      <td>-9</td>\n",
       "      <td>0</td>\n",
       "      <td>-9</td>\n",
       "      <td>NaN</td>\n",
       "    </tr>\n",
       "  </tbody>\n",
       "</table>\n",
       "<p>181691 rows × 134 columns</p>\n",
       "</div>"
      ],
      "text/plain": [
       "        iyear  imonth  iday approxdate  extended resolution  country  \\\n",
       "0        1970       7     2        NaN         0        NaN       58   \n",
       "1        1970       0     0        NaN         0        NaN      130   \n",
       "2        1970       1     0        NaN         0        NaN      160   \n",
       "3        1970       1     0        NaN         0        NaN       78   \n",
       "4        1970       1     0        NaN         0        NaN      101   \n",
       "...       ...     ...   ...        ...       ...        ...      ...   \n",
       "181686   2017      12    31        NaN         0        NaN      182   \n",
       "181687   2017      12    31        NaN         0        NaN      200   \n",
       "181688   2017      12    31        NaN         0        NaN      160   \n",
       "181689   2017      12    31        NaN         0        NaN       92   \n",
       "181690   2017      12    31        NaN         0        NaN      160   \n",
       "\n",
       "               country_txt  region                   region_txt  ... addnotes  \\\n",
       "0       Dominican Republic       2  Central America & Caribbean  ...      NaN   \n",
       "1                   Mexico       1                North America  ...      NaN   \n",
       "2              Philippines       5               Southeast Asia  ...      NaN   \n",
       "3                   Greece       8               Western Europe  ...      NaN   \n",
       "4                    Japan       4                    East Asia  ...      NaN   \n",
       "...                    ...     ...                          ...  ...      ...   \n",
       "181686             Somalia      11           Sub-Saharan Africa  ...      NaN   \n",
       "181687               Syria      10   Middle East & North Africa  ...      NaN   \n",
       "181688         Philippines       5               Southeast Asia  ...      NaN   \n",
       "181689               India       6                   South Asia  ...      NaN   \n",
       "181690         Philippines       5               Southeast Asia  ...      NaN   \n",
       "\n",
       "                                                   scite1  \\\n",
       "0                                                     NaN   \n",
       "1                                                     NaN   \n",
       "2                                                     NaN   \n",
       "3                                                     NaN   \n",
       "4                                                     NaN   \n",
       "...                                                   ...   \n",
       "181686  \"Somalia: Al-Shabaab Militants Attack Army Che...   \n",
       "181687  \"Putin's 'victory' in Syria has turned into a ...   \n",
       "181688  \"Maguindanao clashes trap tribe members,\" Phil...   \n",
       "181689  \"Trader escapes grenade attack in Imphal,\" Bus...   \n",
       "181690  \"Security tightened in Cotabato following IED ...   \n",
       "\n",
       "                                                   scite2  \\\n",
       "0                                                     NaN   \n",
       "1                                                     NaN   \n",
       "2                                                     NaN   \n",
       "3                                                     NaN   \n",
       "4                                                     NaN   \n",
       "...                                                   ...   \n",
       "181686  \"Highlights: Somalia Daily Media Highlights 2 ...   \n",
       "181687  \"Two Russian soldiers killed at Hmeymim base i...   \n",
       "181688                                                NaN   \n",
       "181689                                                NaN   \n",
       "181690  \"Security tightened in Cotabato City,\" Manila ...   \n",
       "\n",
       "                                                   scite3  \\\n",
       "0                                                     NaN   \n",
       "1                                                     NaN   \n",
       "2                                                     NaN   \n",
       "3                                                     NaN   \n",
       "4                                                     NaN   \n",
       "...                                                   ...   \n",
       "181686  \"Highlights: Somalia Daily Media Highlights 1 ...   \n",
       "181687  \"Two Russian servicemen killed in Syria mortar...   \n",
       "181688                                                NaN   \n",
       "181689                                                NaN   \n",
       "181690                                                NaN   \n",
       "\n",
       "                        dbsource  INT_LOG INT_IDEO INT_MISC  INT_ANY  related  \n",
       "0                           PGIS        0        0        0        0      NaN  \n",
       "1                           PGIS        0        1        1        1      NaN  \n",
       "2                           PGIS       -9       -9        1        1      NaN  \n",
       "3                           PGIS       -9       -9        1        1      NaN  \n",
       "4                           PGIS       -9       -9        1        1      NaN  \n",
       "...                          ...      ...      ...      ...      ...      ...  \n",
       "181686  START Primary Collection        0        0        0        0      NaN  \n",
       "181687  START Primary Collection       -9       -9        1        1      NaN  \n",
       "181688  START Primary Collection        0        0        0        0      NaN  \n",
       "181689  START Primary Collection       -9       -9        0       -9      NaN  \n",
       "181690  START Primary Collection       -9       -9        0       -9      NaN  \n",
       "\n",
       "[181691 rows x 134 columns]"
      ]
     },
     "execution_count": 125,
     "metadata": {},
     "output_type": "execute_result"
    }
   ],
   "source": [
    "#Gropping eventid column as it isn't necessary.\n",
    "\n",
    "df.drop('eventid',axis='columns')"
   ]
  },
  {
   "cell_type": "code",
   "execution_count": 126,
   "id": "e52f7d62",
   "metadata": {},
   "outputs": [
    {
     "data": {
      "text/plain": [
       "(181691, 135)"
      ]
     },
     "execution_count": 126,
     "metadata": {},
     "output_type": "execute_result"
    }
   ],
   "source": [
    "df.shape"
   ]
  },
  {
   "cell_type": "code",
   "execution_count": 127,
   "id": "fabfbba4",
   "metadata": {},
   "outputs": [],
   "source": [
    "#Keeping the necessary columns while droping/removing the unnessary ones.\n",
    "\n",
    "df= df[['iyear', 'imonth', 'iday', 'extended', 'country_txt', 'provstate', 'region_txt', 'attacktype1_txt','target1','nkill', 'nwound', 'summary', 'gname','targtype1_txt', 'weaptype1_txt', 'motive', 'city', 'latitude', 'longitude' ]]"
   ]
  },
  {
   "cell_type": "code",
   "execution_count": 128,
   "id": "08835f41",
   "metadata": {},
   "outputs": [
    {
     "data": {
      "text/html": [
       "<div>\n",
       "<style scoped>\n",
       "    .dataframe tbody tr th:only-of-type {\n",
       "        vertical-align: middle;\n",
       "    }\n",
       "\n",
       "    .dataframe tbody tr th {\n",
       "        vertical-align: top;\n",
       "    }\n",
       "\n",
       "    .dataframe thead th {\n",
       "        text-align: right;\n",
       "    }\n",
       "</style>\n",
       "<table border=\"1\" class=\"dataframe\">\n",
       "  <thead>\n",
       "    <tr style=\"text-align: right;\">\n",
       "      <th></th>\n",
       "      <th>iyear</th>\n",
       "      <th>imonth</th>\n",
       "      <th>iday</th>\n",
       "      <th>extended</th>\n",
       "      <th>country_txt</th>\n",
       "      <th>provstate</th>\n",
       "      <th>region_txt</th>\n",
       "      <th>attacktype1_txt</th>\n",
       "      <th>target1</th>\n",
       "      <th>nkill</th>\n",
       "      <th>nwound</th>\n",
       "      <th>summary</th>\n",
       "      <th>gname</th>\n",
       "      <th>targtype1_txt</th>\n",
       "      <th>weaptype1_txt</th>\n",
       "      <th>motive</th>\n",
       "      <th>city</th>\n",
       "      <th>latitude</th>\n",
       "      <th>longitude</th>\n",
       "    </tr>\n",
       "  </thead>\n",
       "  <tbody>\n",
       "    <tr>\n",
       "      <th>0</th>\n",
       "      <td>1970</td>\n",
       "      <td>7</td>\n",
       "      <td>2</td>\n",
       "      <td>0</td>\n",
       "      <td>Dominican Republic</td>\n",
       "      <td>NaN</td>\n",
       "      <td>Central America &amp; Caribbean</td>\n",
       "      <td>Assassination</td>\n",
       "      <td>Julio Guzman</td>\n",
       "      <td>1.0</td>\n",
       "      <td>0.0</td>\n",
       "      <td>NaN</td>\n",
       "      <td>MANO-D</td>\n",
       "      <td>Private Citizens &amp; Property</td>\n",
       "      <td>Unknown</td>\n",
       "      <td>NaN</td>\n",
       "      <td>Santo Domingo</td>\n",
       "      <td>18.456792</td>\n",
       "      <td>-69.951164</td>\n",
       "    </tr>\n",
       "    <tr>\n",
       "      <th>1</th>\n",
       "      <td>1970</td>\n",
       "      <td>0</td>\n",
       "      <td>0</td>\n",
       "      <td>0</td>\n",
       "      <td>Mexico</td>\n",
       "      <td>Federal</td>\n",
       "      <td>North America</td>\n",
       "      <td>Hostage Taking (Kidnapping)</td>\n",
       "      <td>Nadine Chaval, daughter</td>\n",
       "      <td>0.0</td>\n",
       "      <td>0.0</td>\n",
       "      <td>NaN</td>\n",
       "      <td>23rd of September Communist League</td>\n",
       "      <td>Government (Diplomatic)</td>\n",
       "      <td>Unknown</td>\n",
       "      <td>NaN</td>\n",
       "      <td>Mexico city</td>\n",
       "      <td>19.371887</td>\n",
       "      <td>-99.086624</td>\n",
       "    </tr>\n",
       "    <tr>\n",
       "      <th>2</th>\n",
       "      <td>1970</td>\n",
       "      <td>1</td>\n",
       "      <td>0</td>\n",
       "      <td>0</td>\n",
       "      <td>Philippines</td>\n",
       "      <td>Tarlac</td>\n",
       "      <td>Southeast Asia</td>\n",
       "      <td>Assassination</td>\n",
       "      <td>Employee</td>\n",
       "      <td>1.0</td>\n",
       "      <td>0.0</td>\n",
       "      <td>NaN</td>\n",
       "      <td>Unknown</td>\n",
       "      <td>Journalists &amp; Media</td>\n",
       "      <td>Unknown</td>\n",
       "      <td>NaN</td>\n",
       "      <td>Unknown</td>\n",
       "      <td>15.478598</td>\n",
       "      <td>120.599741</td>\n",
       "    </tr>\n",
       "    <tr>\n",
       "      <th>3</th>\n",
       "      <td>1970</td>\n",
       "      <td>1</td>\n",
       "      <td>0</td>\n",
       "      <td>0</td>\n",
       "      <td>Greece</td>\n",
       "      <td>Attica</td>\n",
       "      <td>Western Europe</td>\n",
       "      <td>Bombing/Explosion</td>\n",
       "      <td>U.S. Embassy</td>\n",
       "      <td>NaN</td>\n",
       "      <td>NaN</td>\n",
       "      <td>NaN</td>\n",
       "      <td>Unknown</td>\n",
       "      <td>Government (Diplomatic)</td>\n",
       "      <td>Explosives</td>\n",
       "      <td>NaN</td>\n",
       "      <td>Athens</td>\n",
       "      <td>37.997490</td>\n",
       "      <td>23.762728</td>\n",
       "    </tr>\n",
       "    <tr>\n",
       "      <th>4</th>\n",
       "      <td>1970</td>\n",
       "      <td>1</td>\n",
       "      <td>0</td>\n",
       "      <td>0</td>\n",
       "      <td>Japan</td>\n",
       "      <td>Fukouka</td>\n",
       "      <td>East Asia</td>\n",
       "      <td>Facility/Infrastructure Attack</td>\n",
       "      <td>U.S. Consulate</td>\n",
       "      <td>NaN</td>\n",
       "      <td>NaN</td>\n",
       "      <td>NaN</td>\n",
       "      <td>Unknown</td>\n",
       "      <td>Government (Diplomatic)</td>\n",
       "      <td>Incendiary</td>\n",
       "      <td>NaN</td>\n",
       "      <td>Fukouka</td>\n",
       "      <td>33.580412</td>\n",
       "      <td>130.396361</td>\n",
       "    </tr>\n",
       "  </tbody>\n",
       "</table>\n",
       "</div>"
      ],
      "text/plain": [
       "   iyear  imonth  iday  extended         country_txt provstate  \\\n",
       "0   1970       7     2         0  Dominican Republic       NaN   \n",
       "1   1970       0     0         0              Mexico   Federal   \n",
       "2   1970       1     0         0         Philippines    Tarlac   \n",
       "3   1970       1     0         0              Greece    Attica   \n",
       "4   1970       1     0         0               Japan   Fukouka   \n",
       "\n",
       "                    region_txt                 attacktype1_txt  \\\n",
       "0  Central America & Caribbean                   Assassination   \n",
       "1                North America     Hostage Taking (Kidnapping)   \n",
       "2               Southeast Asia                   Assassination   \n",
       "3               Western Europe               Bombing/Explosion   \n",
       "4                    East Asia  Facility/Infrastructure Attack   \n",
       "\n",
       "                   target1  nkill  nwound summary  \\\n",
       "0             Julio Guzman    1.0     0.0     NaN   \n",
       "1  Nadine Chaval, daughter    0.0     0.0     NaN   \n",
       "2                 Employee    1.0     0.0     NaN   \n",
       "3             U.S. Embassy    NaN     NaN     NaN   \n",
       "4           U.S. Consulate    NaN     NaN     NaN   \n",
       "\n",
       "                                gname                targtype1_txt  \\\n",
       "0                              MANO-D  Private Citizens & Property   \n",
       "1  23rd of September Communist League      Government (Diplomatic)   \n",
       "2                             Unknown          Journalists & Media   \n",
       "3                             Unknown      Government (Diplomatic)   \n",
       "4                             Unknown      Government (Diplomatic)   \n",
       "\n",
       "  weaptype1_txt motive           city   latitude   longitude  \n",
       "0       Unknown    NaN  Santo Domingo  18.456792  -69.951164  \n",
       "1       Unknown    NaN    Mexico city  19.371887  -99.086624  \n",
       "2       Unknown    NaN        Unknown  15.478598  120.599741  \n",
       "3    Explosives    NaN         Athens  37.997490   23.762728  \n",
       "4    Incendiary    NaN        Fukouka  33.580412  130.396361  "
      ]
     },
     "execution_count": 128,
     "metadata": {},
     "output_type": "execute_result"
    }
   ],
   "source": [
    "df.head()"
   ]
  },
  {
   "cell_type": "code",
   "execution_count": 129,
   "id": "acbf1b32",
   "metadata": {},
   "outputs": [
    {
     "data": {
      "text/plain": [
       "(181691, 19)"
      ]
     },
     "execution_count": 129,
     "metadata": {},
     "output_type": "execute_result"
    }
   ],
   "source": [
    "df.shape"
   ]
  },
  {
   "cell_type": "code",
   "execution_count": 130,
   "id": "cad129ec",
   "metadata": {},
   "outputs": [
    {
     "data": {
      "text/plain": [
       "iyear                   0\n",
       "imonth                  0\n",
       "iday                    0\n",
       "extended                0\n",
       "country_txt             0\n",
       "provstate             421\n",
       "region_txt              0\n",
       "attacktype1_txt         0\n",
       "target1               636\n",
       "nkill               10313\n",
       "nwound              16311\n",
       "summary             66129\n",
       "gname                   0\n",
       "targtype1_txt           0\n",
       "weaptype1_txt           0\n",
       "motive             131130\n",
       "city                  434\n",
       "latitude             4556\n",
       "longitude            4557\n",
       "dtype: int64"
      ]
     },
     "execution_count": 130,
     "metadata": {},
     "output_type": "execute_result"
    }
   ],
   "source": [
    "#Finding the total number of null values present in each column.\n",
    "\n",
    "df.isnull().sum()"
   ]
  },
  {
   "cell_type": "code",
   "execution_count": 131,
   "id": "0b6ee97f",
   "metadata": {},
   "outputs": [],
   "source": [
    "#Replacing all the null values present in the columns ('nwound' and 'nkill') with a 0.\n",
    "\n",
    "df['nwound']= df['nwound'].fillna(0)\n",
    "df['nkill']= df['nkill'].fillna(0)"
   ]
  },
  {
   "cell_type": "code",
   "execution_count": 132,
   "id": "26151cea",
   "metadata": {},
   "outputs": [],
   "source": [
    "#Creating a seperate column ('Casualties') which would contain the addition of number of people of wounded i.e. 'nwound'\n",
    "# and number of people killed ('nkill')\n",
    "\n",
    "df['Casualties']= df['nwound']+df['nkill']"
   ]
  },
  {
   "cell_type": "code",
   "execution_count": 133,
   "id": "9cb2183b",
   "metadata": {},
   "outputs": [
    {
     "data": {
      "text/plain": [
       "iyear                   0\n",
       "imonth                  0\n",
       "iday                    0\n",
       "extended                0\n",
       "country_txt             0\n",
       "provstate             421\n",
       "region_txt              0\n",
       "attacktype1_txt         0\n",
       "target1               636\n",
       "nkill                   0\n",
       "nwound                  0\n",
       "summary             66129\n",
       "gname                   0\n",
       "targtype1_txt           0\n",
       "weaptype1_txt           0\n",
       "motive             131130\n",
       "city                  434\n",
       "latitude             4556\n",
       "longitude            4557\n",
       "Casualties              0\n",
       "dtype: int64"
      ]
     },
     "execution_count": 133,
     "metadata": {},
     "output_type": "execute_result"
    }
   ],
   "source": [
    "df.isnull().sum()"
   ]
  },
  {
   "cell_type": "code",
   "execution_count": 134,
   "id": "62070559",
   "metadata": {},
   "outputs": [
    {
     "data": {
      "text/html": [
       "<div>\n",
       "<style scoped>\n",
       "    .dataframe tbody tr th:only-of-type {\n",
       "        vertical-align: middle;\n",
       "    }\n",
       "\n",
       "    .dataframe tbody tr th {\n",
       "        vertical-align: top;\n",
       "    }\n",
       "\n",
       "    .dataframe thead th {\n",
       "        text-align: right;\n",
       "    }\n",
       "</style>\n",
       "<table border=\"1\" class=\"dataframe\">\n",
       "  <thead>\n",
       "    <tr style=\"text-align: right;\">\n",
       "      <th></th>\n",
       "      <th>iyear</th>\n",
       "      <th>imonth</th>\n",
       "      <th>iday</th>\n",
       "      <th>extended</th>\n",
       "      <th>country_txt</th>\n",
       "      <th>provstate</th>\n",
       "      <th>region_txt</th>\n",
       "      <th>attacktype1_txt</th>\n",
       "      <th>target1</th>\n",
       "      <th>nkill</th>\n",
       "      <th>nwound</th>\n",
       "      <th>summary</th>\n",
       "      <th>gname</th>\n",
       "      <th>targtype1_txt</th>\n",
       "      <th>weaptype1_txt</th>\n",
       "      <th>motive</th>\n",
       "      <th>city</th>\n",
       "      <th>latitude</th>\n",
       "      <th>longitude</th>\n",
       "      <th>Casualties</th>\n",
       "    </tr>\n",
       "  </thead>\n",
       "  <tbody>\n",
       "    <tr>\n",
       "      <th>0</th>\n",
       "      <td>1970</td>\n",
       "      <td>7</td>\n",
       "      <td>2</td>\n",
       "      <td>0</td>\n",
       "      <td>Dominican Republic</td>\n",
       "      <td>NaN</td>\n",
       "      <td>Central America &amp; Caribbean</td>\n",
       "      <td>Assassination</td>\n",
       "      <td>Julio Guzman</td>\n",
       "      <td>1.0</td>\n",
       "      <td>0.0</td>\n",
       "      <td>NaN</td>\n",
       "      <td>MANO-D</td>\n",
       "      <td>Private Citizens &amp; Property</td>\n",
       "      <td>Unknown</td>\n",
       "      <td>NaN</td>\n",
       "      <td>Santo Domingo</td>\n",
       "      <td>18.456792</td>\n",
       "      <td>-69.951164</td>\n",
       "      <td>1.0</td>\n",
       "    </tr>\n",
       "    <tr>\n",
       "      <th>1</th>\n",
       "      <td>1970</td>\n",
       "      <td>0</td>\n",
       "      <td>0</td>\n",
       "      <td>0</td>\n",
       "      <td>Mexico</td>\n",
       "      <td>Federal</td>\n",
       "      <td>North America</td>\n",
       "      <td>Hostage Taking (Kidnapping)</td>\n",
       "      <td>Nadine Chaval, daughter</td>\n",
       "      <td>0.0</td>\n",
       "      <td>0.0</td>\n",
       "      <td>NaN</td>\n",
       "      <td>23rd of September Communist League</td>\n",
       "      <td>Government (Diplomatic)</td>\n",
       "      <td>Unknown</td>\n",
       "      <td>NaN</td>\n",
       "      <td>Mexico city</td>\n",
       "      <td>19.371887</td>\n",
       "      <td>-99.086624</td>\n",
       "      <td>0.0</td>\n",
       "    </tr>\n",
       "    <tr>\n",
       "      <th>2</th>\n",
       "      <td>1970</td>\n",
       "      <td>1</td>\n",
       "      <td>0</td>\n",
       "      <td>0</td>\n",
       "      <td>Philippines</td>\n",
       "      <td>Tarlac</td>\n",
       "      <td>Southeast Asia</td>\n",
       "      <td>Assassination</td>\n",
       "      <td>Employee</td>\n",
       "      <td>1.0</td>\n",
       "      <td>0.0</td>\n",
       "      <td>NaN</td>\n",
       "      <td>Unknown</td>\n",
       "      <td>Journalists &amp; Media</td>\n",
       "      <td>Unknown</td>\n",
       "      <td>NaN</td>\n",
       "      <td>Unknown</td>\n",
       "      <td>15.478598</td>\n",
       "      <td>120.599741</td>\n",
       "      <td>1.0</td>\n",
       "    </tr>\n",
       "    <tr>\n",
       "      <th>3</th>\n",
       "      <td>1970</td>\n",
       "      <td>1</td>\n",
       "      <td>0</td>\n",
       "      <td>0</td>\n",
       "      <td>Greece</td>\n",
       "      <td>Attica</td>\n",
       "      <td>Western Europe</td>\n",
       "      <td>Bombing/Explosion</td>\n",
       "      <td>U.S. Embassy</td>\n",
       "      <td>0.0</td>\n",
       "      <td>0.0</td>\n",
       "      <td>NaN</td>\n",
       "      <td>Unknown</td>\n",
       "      <td>Government (Diplomatic)</td>\n",
       "      <td>Explosives</td>\n",
       "      <td>NaN</td>\n",
       "      <td>Athens</td>\n",
       "      <td>37.997490</td>\n",
       "      <td>23.762728</td>\n",
       "      <td>0.0</td>\n",
       "    </tr>\n",
       "    <tr>\n",
       "      <th>4</th>\n",
       "      <td>1970</td>\n",
       "      <td>1</td>\n",
       "      <td>0</td>\n",
       "      <td>0</td>\n",
       "      <td>Japan</td>\n",
       "      <td>Fukouka</td>\n",
       "      <td>East Asia</td>\n",
       "      <td>Facility/Infrastructure Attack</td>\n",
       "      <td>U.S. Consulate</td>\n",
       "      <td>0.0</td>\n",
       "      <td>0.0</td>\n",
       "      <td>NaN</td>\n",
       "      <td>Unknown</td>\n",
       "      <td>Government (Diplomatic)</td>\n",
       "      <td>Incendiary</td>\n",
       "      <td>NaN</td>\n",
       "      <td>Fukouka</td>\n",
       "      <td>33.580412</td>\n",
       "      <td>130.396361</td>\n",
       "      <td>0.0</td>\n",
       "    </tr>\n",
       "  </tbody>\n",
       "</table>\n",
       "</div>"
      ],
      "text/plain": [
       "   iyear  imonth  iday  extended         country_txt provstate  \\\n",
       "0   1970       7     2         0  Dominican Republic       NaN   \n",
       "1   1970       0     0         0              Mexico   Federal   \n",
       "2   1970       1     0         0         Philippines    Tarlac   \n",
       "3   1970       1     0         0              Greece    Attica   \n",
       "4   1970       1     0         0               Japan   Fukouka   \n",
       "\n",
       "                    region_txt                 attacktype1_txt  \\\n",
       "0  Central America & Caribbean                   Assassination   \n",
       "1                North America     Hostage Taking (Kidnapping)   \n",
       "2               Southeast Asia                   Assassination   \n",
       "3               Western Europe               Bombing/Explosion   \n",
       "4                    East Asia  Facility/Infrastructure Attack   \n",
       "\n",
       "                   target1  nkill  nwound summary  \\\n",
       "0             Julio Guzman    1.0     0.0     NaN   \n",
       "1  Nadine Chaval, daughter    0.0     0.0     NaN   \n",
       "2                 Employee    1.0     0.0     NaN   \n",
       "3             U.S. Embassy    0.0     0.0     NaN   \n",
       "4           U.S. Consulate    0.0     0.0     NaN   \n",
       "\n",
       "                                gname                targtype1_txt  \\\n",
       "0                              MANO-D  Private Citizens & Property   \n",
       "1  23rd of September Communist League      Government (Diplomatic)   \n",
       "2                             Unknown          Journalists & Media   \n",
       "3                             Unknown      Government (Diplomatic)   \n",
       "4                             Unknown      Government (Diplomatic)   \n",
       "\n",
       "  weaptype1_txt motive           city   latitude   longitude  Casualties  \n",
       "0       Unknown    NaN  Santo Domingo  18.456792  -69.951164         1.0  \n",
       "1       Unknown    NaN    Mexico city  19.371887  -99.086624         0.0  \n",
       "2       Unknown    NaN        Unknown  15.478598  120.599741         1.0  \n",
       "3    Explosives    NaN         Athens  37.997490   23.762728         0.0  \n",
       "4    Incendiary    NaN        Fukouka  33.580412  130.396361         0.0  "
      ]
     },
     "execution_count": 134,
     "metadata": {},
     "output_type": "execute_result"
    }
   ],
   "source": [
    "df.head()"
   ]
  },
  {
   "cell_type": "code",
   "execution_count": 135,
   "id": "375f1921",
   "metadata": {},
   "outputs": [
    {
     "data": {
      "text/html": [
       "<div>\n",
       "<style scoped>\n",
       "    .dataframe tbody tr th:only-of-type {\n",
       "        vertical-align: middle;\n",
       "    }\n",
       "\n",
       "    .dataframe tbody tr th {\n",
       "        vertical-align: top;\n",
       "    }\n",
       "\n",
       "    .dataframe thead th {\n",
       "        text-align: right;\n",
       "    }\n",
       "</style>\n",
       "<table border=\"1\" class=\"dataframe\">\n",
       "  <thead>\n",
       "    <tr style=\"text-align: right;\">\n",
       "      <th></th>\n",
       "      <th>iyear</th>\n",
       "      <th>imonth</th>\n",
       "      <th>iday</th>\n",
       "      <th>extended</th>\n",
       "      <th>nkill</th>\n",
       "      <th>nwound</th>\n",
       "      <th>latitude</th>\n",
       "      <th>longitude</th>\n",
       "      <th>Casualties</th>\n",
       "    </tr>\n",
       "  </thead>\n",
       "  <tbody>\n",
       "    <tr>\n",
       "      <th>iyear</th>\n",
       "      <td>1.000000</td>\n",
       "      <td>0.000139</td>\n",
       "      <td>0.018254</td>\n",
       "      <td>0.091754</td>\n",
       "      <td>0.021252</td>\n",
       "      <td>0.017484</td>\n",
       "      <td>0.166933</td>\n",
       "      <td>0.003917</td>\n",
       "      <td>0.020675</td>\n",
       "    </tr>\n",
       "    <tr>\n",
       "      <th>imonth</th>\n",
       "      <td>0.000139</td>\n",
       "      <td>1.000000</td>\n",
       "      <td>0.005497</td>\n",
       "      <td>-0.000468</td>\n",
       "      <td>0.004031</td>\n",
       "      <td>0.003178</td>\n",
       "      <td>-0.015978</td>\n",
       "      <td>-0.003880</td>\n",
       "      <td>0.003805</td>\n",
       "    </tr>\n",
       "    <tr>\n",
       "      <th>iday</th>\n",
       "      <td>0.018254</td>\n",
       "      <td>0.005497</td>\n",
       "      <td>1.000000</td>\n",
       "      <td>-0.004700</td>\n",
       "      <td>-0.003225</td>\n",
       "      <td>-0.001082</td>\n",
       "      <td>0.003423</td>\n",
       "      <td>-0.002285</td>\n",
       "      <td>-0.001808</td>\n",
       "    </tr>\n",
       "    <tr>\n",
       "      <th>extended</th>\n",
       "      <td>0.091754</td>\n",
       "      <td>-0.000468</td>\n",
       "      <td>-0.004700</td>\n",
       "      <td>1.000000</td>\n",
       "      <td>0.014586</td>\n",
       "      <td>-0.010175</td>\n",
       "      <td>-0.024749</td>\n",
       "      <td>0.000523</td>\n",
       "      <td>-0.004570</td>\n",
       "    </tr>\n",
       "    <tr>\n",
       "      <th>nkill</th>\n",
       "      <td>0.021252</td>\n",
       "      <td>0.004031</td>\n",
       "      <td>-0.003225</td>\n",
       "      <td>0.014586</td>\n",
       "      <td>1.000000</td>\n",
       "      <td>0.443326</td>\n",
       "      <td>-0.013170</td>\n",
       "      <td>-0.000587</td>\n",
       "      <td>0.651885</td>\n",
       "    </tr>\n",
       "    <tr>\n",
       "      <th>nwound</th>\n",
       "      <td>0.017484</td>\n",
       "      <td>0.003178</td>\n",
       "      <td>-0.001082</td>\n",
       "      <td>-0.010175</td>\n",
       "      <td>0.443326</td>\n",
       "      <td>1.000000</td>\n",
       "      <td>0.015920</td>\n",
       "      <td>0.000205</td>\n",
       "      <td>0.968724</td>\n",
       "    </tr>\n",
       "    <tr>\n",
       "      <th>latitude</th>\n",
       "      <td>0.166933</td>\n",
       "      <td>-0.015978</td>\n",
       "      <td>0.003423</td>\n",
       "      <td>-0.024749</td>\n",
       "      <td>-0.013170</td>\n",
       "      <td>0.015920</td>\n",
       "      <td>1.000000</td>\n",
       "      <td>0.001463</td>\n",
       "      <td>0.009899</td>\n",
       "    </tr>\n",
       "    <tr>\n",
       "      <th>longitude</th>\n",
       "      <td>0.003917</td>\n",
       "      <td>-0.003880</td>\n",
       "      <td>-0.002285</td>\n",
       "      <td>0.000523</td>\n",
       "      <td>-0.000587</td>\n",
       "      <td>0.000205</td>\n",
       "      <td>0.001463</td>\n",
       "      <td>1.000000</td>\n",
       "      <td>0.000013</td>\n",
       "    </tr>\n",
       "    <tr>\n",
       "      <th>Casualties</th>\n",
       "      <td>0.020675</td>\n",
       "      <td>0.003805</td>\n",
       "      <td>-0.001808</td>\n",
       "      <td>-0.004570</td>\n",
       "      <td>0.651885</td>\n",
       "      <td>0.968724</td>\n",
       "      <td>0.009899</td>\n",
       "      <td>0.000013</td>\n",
       "      <td>1.000000</td>\n",
       "    </tr>\n",
       "  </tbody>\n",
       "</table>\n",
       "</div>"
      ],
      "text/plain": [
       "               iyear    imonth      iday  extended     nkill    nwound  \\\n",
       "iyear       1.000000  0.000139  0.018254  0.091754  0.021252  0.017484   \n",
       "imonth      0.000139  1.000000  0.005497 -0.000468  0.004031  0.003178   \n",
       "iday        0.018254  0.005497  1.000000 -0.004700 -0.003225 -0.001082   \n",
       "extended    0.091754 -0.000468 -0.004700  1.000000  0.014586 -0.010175   \n",
       "nkill       0.021252  0.004031 -0.003225  0.014586  1.000000  0.443326   \n",
       "nwound      0.017484  0.003178 -0.001082 -0.010175  0.443326  1.000000   \n",
       "latitude    0.166933 -0.015978  0.003423 -0.024749 -0.013170  0.015920   \n",
       "longitude   0.003917 -0.003880 -0.002285  0.000523 -0.000587  0.000205   \n",
       "Casualties  0.020675  0.003805 -0.001808 -0.004570  0.651885  0.968724   \n",
       "\n",
       "            latitude  longitude  Casualties  \n",
       "iyear       0.166933   0.003917    0.020675  \n",
       "imonth     -0.015978  -0.003880    0.003805  \n",
       "iday        0.003423  -0.002285   -0.001808  \n",
       "extended   -0.024749   0.000523   -0.004570  \n",
       "nkill      -0.013170  -0.000587    0.651885  \n",
       "nwound      0.015920   0.000205    0.968724  \n",
       "latitude    1.000000   0.001463    0.009899  \n",
       "longitude   0.001463   1.000000    0.000013  \n",
       "Casualties  0.009899   0.000013    1.000000  "
      ]
     },
     "execution_count": 135,
     "metadata": {},
     "output_type": "execute_result"
    }
   ],
   "source": [
    "#Correlation of the row variable with the column variable is the value of each cell.\n",
    "#Correlation of any variable with itself is 1, hence all the diagonal values are 1.\n",
    "\n",
    "df.corr()"
   ]
  },
  {
   "cell_type": "code",
   "execution_count": 136,
   "id": "1de0e081",
   "metadata": {},
   "outputs": [
    {
     "data": {
      "text/plain": [
       "<AxesSubplot:>"
      ]
     },
     "execution_count": 136,
     "metadata": {},
     "output_type": "execute_result"
    },
    {
     "data": {
      "image/png": "[encoded data removed]",
      "text/plain": [
       "<Figure size 720x360 with 2 Axes>"
      ]
     },
     "metadata": {
      "needs_background": "light"
     },
     "output_type": "display_data"
    }
   ],
   "source": [
    "#Setting the figure size.\n",
    "plt.figure(figsize=(10,5)) \n",
    "\n",
    "\n",
    "#Heatmap used to visualize the correlation.\n",
    "sb.heatmap(df.corr(),annot=True)"
   ]
  },
  {
   "cell_type": "markdown",
   "id": "121f0083",
   "metadata": {},
   "source": [
    "# Checking attacks in years"
   ]
  },
  {
   "cell_type": "code",
   "execution_count": 137,
   "id": "0aca550c",
   "metadata": {},
   "outputs": [
    {
     "data": {
      "text/plain": [
       "1971      471\n",
       "1973      473\n",
       "1972      568\n",
       "1974      581\n",
       "1970      651\n",
       "1975      740\n",
       "1976      923\n",
       "1998      934\n",
       "2004     1166\n",
       "2003     1278\n",
       "1977     1319\n",
       "2002     1333\n",
       "1999     1395\n",
       "1978     1526\n",
       "2000     1814\n",
       "2001     1906\n",
       "2005     2017\n",
       "1982     2544\n",
       "1981     2586\n",
       "1980     2662\n",
       "1979     2662\n",
       "2006     2758\n",
       "1986     2860\n",
       "1983     2870\n",
       "1985     2915\n",
       "1996     3058\n",
       "1995     3081\n",
       "1987     3183\n",
       "1997     3197\n",
       "2007     3242\n",
       "1994     3456\n",
       "1984     3495\n",
       "1988     3721\n",
       "1990     3887\n",
       "1989     4324\n",
       "1991     4683\n",
       "2009     4721\n",
       "2008     4805\n",
       "2010     4826\n",
       "1992     5071\n",
       "2011     5076\n",
       "2012     8522\n",
       "2017    10900\n",
       "2013    12036\n",
       "2016    13587\n",
       "2015    14965\n",
       "2014    16903\n",
       "Name: iyear, dtype: int64"
      ]
     },
     "execution_count": 137,
     "metadata": {},
     "output_type": "execute_result"
    }
   ],
   "source": [
    "#Counting the values of each year, sorting it and presenting the data to the user.\n",
    "\n",
    "year_data= df['iyear'].value_counts().sort_values()\n",
    "year_data"
   ]
  },
  {
   "cell_type": "raw",
   "id": "8573983a",
   "metadata": {},
   "source": [
    "Plot the bargraph of the same."
   ]
  },
  {
   "cell_type": "code",
   "execution_count": 138,
   "id": "94917196",
   "metadata": {},
   "outputs": [
    {
     "data": {
      "image/png": "[encoded data removed]",
      "text/plain": [
       "<Figure size 1296x360 with 1 Axes>"
      ]
     },
     "metadata": {
      "needs_background": "light"
     },
     "output_type": "display_data"
    }
   ],
   "source": [
    "plt.figure(figsize=(18,5))\n",
    "\n",
    "sb.barplot(x= year_data.index, y= year_data.values, palette= 'Paired')\n",
    "\n",
    "plt.xlabel(\"Years\")\n",
    "\n",
    "plt.ylabel(\"Attacks\")\n",
    "\n",
    "#Used to rotate the labels of X-axis by 90 degrees.\n",
    "plt.xticks(rotation=90)\n",
    "\n",
    "plt.title(\"Attaks in years\")\n",
    "\n",
    "plt.show()"
   ]
  },
  {
   "cell_type": "code",
   "execution_count": 139,
   "id": "89359c31",
   "metadata": {},
   "outputs": [],
   "source": [
    "# Hence years with most number of terrorist attacks are 2014, 2015, 2016 and so on."
   ]
  },
  {
   "cell_type": "raw",
   "id": "3f61a6ea",
   "metadata": {},
   "source": [
    "Countries with most attacks."
   ]
  },
  {
   "cell_type": "code",
   "execution_count": 140,
   "id": "f1581d60",
   "metadata": {},
   "outputs": [
    {
     "data": {
      "text/plain": [
       "Iraq              24636\n",
       "Pakistan          14368\n",
       "Afghanistan       12731\n",
       "India             11960\n",
       "Colombia           8306\n",
       "Philippines        6908\n",
       "Peru               6096\n",
       "El Salvador        5320\n",
       "United Kingdom     5235\n",
       "Turkey             4292\n",
       "Somalia            4142\n",
       "Nigeria            3907\n",
       "Thailand           3849\n",
       "Yemen              3347\n",
       "Spain              3249\n",
       "Name: country_txt, dtype: int64"
      ]
     },
     "execution_count": 140,
     "metadata": {},
     "output_type": "execute_result"
    }
   ],
   "source": [
    "#Showing the 15 countries which have maximum number of attacks.\n",
    "\n",
    "country_data= df['country_txt'].value_counts().nlargest(n=15)\n",
    "\n",
    "country_data"
   ]
  },
  {
   "cell_type": "code",
   "execution_count": 141,
   "id": "a3810ff5",
   "metadata": {},
   "outputs": [
    {
     "data": {
      "image/png": "[encoded data removed]",
      "text/plain": [
       "<Figure size 1296x360 with 1 Axes>"
      ]
     },
     "metadata": {
      "needs_background": "light"
     },
     "output_type": "display_data"
    }
   ],
   "source": [
    "plt.figure(figsize=(18,5))\n",
    "\n",
    "sb.barplot(x=country_data.index, y=country_data.values)\n",
    "\n",
    "plt.xlabel(\"Country\")\n",
    "\n",
    "plt.ylabel(\"Number of attacks\")\n",
    "\n",
    "plt.xticks(rotation=90)\n",
    "\n",
    "plt.title(\"Countries with most attacks\")\n",
    "\n",
    "plt.show()"
   ]
  },
  {
   "cell_type": "code",
   "execution_count": 142,
   "id": "b2cfff07",
   "metadata": {},
   "outputs": [],
   "source": [
    "#Hence, countries with most number of attacks are Iraq, Pakistan, Afghanistan and so on."
   ]
  },
  {
   "cell_type": "raw",
   "id": "0d2d9cee",
   "metadata": {},
   "source": [
    "States with most attacks."
   ]
  },
  {
   "cell_type": "code",
   "execution_count": 143,
   "id": "cd254368",
   "metadata": {},
   "outputs": [
    {
     "data": {
      "text/plain": [
       "Baghdad                                7645\n",
       "Northern Ireland                       4498\n",
       "Unknown                                4290\n",
       "Balochistan                            3710\n",
       "Saladin                                3411\n",
       "Al Anbar                               3299\n",
       "Nineveh                                3241\n",
       "Sindh                                  3206\n",
       "Khyber Pakhtunkhwa                     3084\n",
       "Diyala                                 3041\n",
       "Lima                                   2615\n",
       "Jammu and Kashmir                      2454\n",
       "Federally Administered Tribal Areas    2392\n",
       "San Salvador                           1923\n",
       "Antioquia                              1891\n",
       "Name: provstate, dtype: int64"
      ]
     },
     "execution_count": 143,
     "metadata": {},
     "output_type": "execute_result"
    }
   ],
   "source": [
    "##Showing the 15 states which have maximum number of attacks.\n",
    "\n",
    "state_data= df['provstate'].value_counts().nlargest(15)\n",
    "\n",
    "state_data"
   ]
  },
  {
   "cell_type": "code",
   "execution_count": 144,
   "id": "8ab38146",
   "metadata": {},
   "outputs": [
    {
     "data": {
      "image/png": "[encoded data removed]",
      "text/plain": [
       "<Figure size 1296x360 with 1 Axes>"
      ]
     },
     "metadata": {
      "needs_background": "light"
     },
     "output_type": "display_data"
    }
   ],
   "source": [
    "plt.figure(figsize=(18,5))\n",
    "\n",
    "sb.barplot(x=state_data.index, y=state_data.values)\n",
    "\n",
    "plt.xlabel(\"States\")\n",
    "\n",
    "plt.ylabel(\"Number of attacks\")\n",
    "\n",
    "plt.xticks(rotation=90)\n",
    "\n",
    "plt.title(\"States with most attacks\")\n",
    "\n",
    "plt.show()"
   ]
  },
  {
   "cell_type": "code",
   "execution_count": 145,
   "id": "dca687bb",
   "metadata": {},
   "outputs": [],
   "source": [
    "#Hence, states with most number of attacks are Baghdad, Northeen Ireland, the Unknown state and so on."
   ]
  },
  {
   "cell_type": "raw",
   "id": "05a63a3f",
   "metadata": {},
   "source": [
    "Cities with most attacks."
   ]
  },
  {
   "cell_type": "code",
   "execution_count": 146,
   "id": "90f2f994",
   "metadata": {},
   "outputs": [
    {
     "data": {
      "text/plain": [
       "Unknown         9775\n",
       "Baghdad         7589\n",
       "Karachi         2652\n",
       "Lima            2359\n",
       "Mosul           2265\n",
       "Belfast         2171\n",
       "Santiago        1621\n",
       "Mogadishu       1581\n",
       "San Salvador    1558\n",
       "Istanbul        1048\n",
       "Athens          1019\n",
       "Bogota           984\n",
       "Kirkuk           925\n",
       "Beirut           918\n",
       "Medellin         848\n",
       "Name: city, dtype: int64"
      ]
     },
     "execution_count": 146,
     "metadata": {},
     "output_type": "execute_result"
    }
   ],
   "source": [
    "#Showing the 15 cities which have maximum number of attacks.\n",
    "\n",
    "cities_data= df['city'].value_counts().nlargest(15)\n",
    "\n",
    "cities_data"
   ]
  },
  {
   "cell_type": "code",
   "execution_count": 147,
   "id": "5732cae7",
   "metadata": {},
   "outputs": [
    {
     "data": {
      "image/png": "[encoded data removed]",
      "text/plain": [
       "<Figure size 1296x360 with 1 Axes>"
      ]
     },
     "metadata": {
      "needs_background": "light"
     },
     "output_type": "display_data"
    }
   ],
   "source": [
    "plt.figure(figsize=(18,5))\n",
    "\n",
    "sb.barplot(x=cities_data.index, y=cities_data.values)\n",
    "\n",
    "plt.xlabel(\"Cities\")\n",
    "\n",
    "plt.ylabel(\"Attaks\")\n",
    "\n",
    "plt.xticks(rotation=90)\n",
    "\n",
    "plt.title(\"Cities with most attacks\")\n",
    "\n",
    "plt.show()"
   ]
  },
  {
   "cell_type": "code",
   "execution_count": 148,
   "id": "1520ad8d",
   "metadata": {},
   "outputs": [],
   "source": [
    "# Hence, cities with most number of attacks are the Unknwon city, Baghdad, Karachi and so on."
   ]
  },
  {
   "cell_type": "raw",
   "id": "7f86bf89",
   "metadata": {},
   "source": [
    "Regions with most attacks"
   ]
  },
  {
   "cell_type": "code",
   "execution_count": 149,
   "id": "44b508b8",
   "metadata": {},
   "outputs": [
    {
     "data": {
      "text/plain": [
       "Middle East & North Africa     50474\n",
       "South Asia                     44974\n",
       "South America                  18978\n",
       "Sub-Saharan Africa             17550\n",
       "Western Europe                 16639\n",
       "Southeast Asia                 12485\n",
       "Central America & Caribbean    10344\n",
       "Eastern Europe                  5144\n",
       "North America                   3456\n",
       "East Asia                        802\n",
       "Central Asia                     563\n",
       "Australasia & Oceania            282\n",
       "Name: region_txt, dtype: int64"
      ]
     },
     "execution_count": 149,
     "metadata": {},
     "output_type": "execute_result"
    }
   ],
   "source": [
    "#Showing the 15 regions which have maximum number of attacks.\n",
    "\n",
    "regions_data= df['region_txt'].value_counts().nlargest(15)\n",
    "\n",
    "regions_data"
   ]
  },
  {
   "cell_type": "code",
   "execution_count": 150,
   "id": "91321027",
   "metadata": {},
   "outputs": [
    {
     "data": {
      "image/png": "[encoded data removed]",
      "text/plain": [
       "<Figure size 1296x360 with 1 Axes>"
      ]
     },
     "metadata": {
      "needs_background": "light"
     },
     "output_type": "display_data"
    }
   ],
   "source": [
    "plt.figure(figsize=(18,5))\n",
    "\n",
    "sb.barplot(x=regions_data.index, y=regions_data.values)\n",
    "\n",
    "plt.xlabel(\"Regions\")\n",
    "\n",
    "plt.ylabel(\"Attacks\")\n",
    "\n",
    "plt.xticks(rotation=45)\n",
    "\n",
    "plt.title(\"Regions with most attacks\")\n",
    "\n",
    "plt.show()"
   ]
  },
  {
   "cell_type": "code",
   "execution_count": 151,
   "id": "d9e58f45",
   "metadata": {},
   "outputs": [],
   "source": [
    "# Hence, most frequent;y attacked regions are Middle East and North America, South Asia, South America and so on."
   ]
  },
  {
   "cell_type": "raw",
   "id": "bab648f4",
   "metadata": {},
   "source": [
    "Most frequently used attack types"
   ]
  },
  {
   "cell_type": "code",
   "execution_count": 152,
   "id": "f97670ca",
   "metadata": {},
   "outputs": [
    {
     "data": {
      "text/plain": [
       "Bombing/Explosion                      88255\n",
       "Armed Assault                          42669\n",
       "Assassination                          19312\n",
       "Hostage Taking (Kidnapping)            11158\n",
       "Facility/Infrastructure Attack         10356\n",
       "Unknown                                 7276\n",
       "Unarmed Assault                         1015\n",
       "Hostage Taking (Barricade Incident)      991\n",
       "Hijacking                                659\n",
       "Name: attacktype1_txt, dtype: int64"
      ]
     },
     "execution_count": 152,
     "metadata": {},
     "output_type": "execute_result"
    }
   ],
   "source": [
    "#Showing the 15 most frequently used types of attacking.\n",
    "\n",
    "attack_type_data= df['attacktype1_txt'].value_counts().nlargest(15)\n",
    "\n",
    "attack_type_data"
   ]
  },
  {
   "cell_type": "code",
   "execution_count": 153,
   "id": "566d155c",
   "metadata": {},
   "outputs": [
    {
     "data": {
      "image/png": "[encoded data removed]",
      "text/plain": [
       "<Figure size 1296x360 with 1 Axes>"
      ]
     },
     "metadata": {
      "needs_background": "light"
     },
     "output_type": "display_data"
    }
   ],
   "source": [
    "plt.figure(figsize=(18,5))\n",
    "\n",
    "sb.barplot(x=attack_type_data.index, y=attack_type_data.values)\n",
    "\n",
    "plt.xlabel(\"Attack type\")\n",
    "\n",
    "plt.ylabel(\"Attacks\")\n",
    "\n",
    "plt.xticks(rotation=45)\n",
    "\n",
    "plt.title(\"Attack types with most attacks\")\n",
    "\n",
    "plt.show()"
   ]
  },
  {
   "cell_type": "code",
   "execution_count": 154,
   "id": "a143929e",
   "metadata": {},
   "outputs": [],
   "source": [
    "#Hence, Bombing/Explosion, Armed Assault, Assasination etc. are some of the most frequently used types of attacking."
   ]
  },
  {
   "cell_type": "raw",
   "id": "f6c2204d",
   "metadata": {},
   "source": [
    "Most used weapon type."
   ]
  },
  {
   "cell_type": "code",
   "execution_count": 155,
   "id": "6eeaf1c7",
   "metadata": {},
   "outputs": [
    {
     "data": {
      "text/plain": [
       "Explosives                                                                     92426\n",
       "Firearms                                                                       58524\n",
       "Unknown                                                                        15157\n",
       "Incendiary                                                                     11135\n",
       "Melee                                                                           3655\n",
       "Chemical                                                                         321\n",
       "Sabotage Equipment                                                               141\n",
       "Vehicle (not to include vehicle-borne explosives, i.e., car or truck bombs)      136\n",
       "Other                                                                            114\n",
       "Biological                                                                        35\n",
       "Fake Weapons                                                                      33\n",
       "Radiological                                                                      14\n",
       "Name: weaptype1_txt, dtype: int64"
      ]
     },
     "execution_count": 155,
     "metadata": {},
     "output_type": "execute_result"
    }
   ],
   "source": [
    "weapon_type_data= df['weaptype1_txt'].value_counts().nlargest(15)\n",
    "weapon_type_data\n"
   ]
  },
  {
   "cell_type": "code",
   "execution_count": 156,
   "id": "66594c83",
   "metadata": {},
   "outputs": [
    {
     "data": {
      "image/png": "[encoded data removed]",
      "text/plain": [
       "<Figure size 1296x360 with 1 Axes>"
      ]
     },
     "metadata": {
      "needs_background": "light"
     },
     "output_type": "display_data"
    }
   ],
   "source": [
    "plt.figure(figsize=(18,5))\n",
    "\n",
    "sb.barplot(x=weapon_type_data.index, y=weapon_type_data.values)\n",
    "\n",
    "plt.xlabel(\"Weapon type\")\n",
    "\n",
    "plt.ylabel(\"Attacks\")\n",
    "\n",
    "plt.xticks(rotation=90)\n",
    "\n",
    "plt.title(\"Weapon types with most attacks\")\n",
    "\n",
    "plt.show()"
   ]
  },
  {
   "cell_type": "raw",
   "id": "c61ca3ad",
   "metadata": {},
   "source": [
    "Most frequent target types."
   ]
  },
  {
   "cell_type": "code",
   "execution_count": 157,
   "id": "f806093a",
   "metadata": {},
   "outputs": [
    {
     "data": {
      "text/plain": [
       "Private Citizens & Property       43511\n",
       "Military                          27984\n",
       "Police                            24506\n",
       "Government (General)              21283\n",
       "Business                          20669\n",
       "Transportation                     6799\n",
       "Utilities                          6023\n",
       "Unknown                            5898\n",
       "Religious Figures/Institutions     4440\n",
       "Educational Institution            4322\n",
       "Government (Diplomatic)            3573\n",
       "Terrorists/Non-State Militia       3039\n",
       "Journalists & Media                2948\n",
       "Violent Political Party            1866\n",
       "Airports & Aircraft                1343\n",
       "Name: targtype1_txt, dtype: int64"
      ]
     },
     "execution_count": 157,
     "metadata": {},
     "output_type": "execute_result"
    }
   ],
   "source": [
    "most_frequent_data= df['targtype1_txt'].value_counts().nlargest(15)\n",
    "most_frequent_data\n"
   ]
  },
  {
   "cell_type": "code",
   "execution_count": 158,
   "id": "bc4c2d5f",
   "metadata": {},
   "outputs": [
    {
     "data": {
      "image/png": "[encoded data removed]",
      "text/plain": [
       "<Figure size 1296x360 with 1 Axes>"
      ]
     },
     "metadata": {
      "needs_background": "light"
     },
     "output_type": "display_data"
    }
   ],
   "source": [
    "plt.figure(figsize=(18,5))\n",
    "\n",
    "sb.barplot(x=most_frequent_data.index, y=most_frequent_data.values)\n",
    "\n",
    "plt.xlabel(\"Most frequent target types\")\n",
    "\n",
    "plt.ylabel(\"Attacks\")\n",
    "\n",
    "plt.xticks(rotation=45)\n",
    "\n",
    "plt.title(\"Most frequent target types\")\n",
    "\n",
    "plt.show()"
   ]
  },
  {
   "cell_type": "raw",
   "id": "7b4f620b",
   "metadata": {},
   "source": [
    "Wounded vs Killed Visualization."
   ]
  },
  {
   "cell_type": "code",
   "execution_count": 159,
   "id": "f8570487",
   "metadata": {},
   "outputs": [
    {
     "data": {
      "text/plain": [
       "0         1.0\n",
       "1         0.0\n",
       "2         1.0\n",
       "3         0.0\n",
       "4         0.0\n",
       "         ... \n",
       "181686    3.0\n",
       "181687    9.0\n",
       "181688    0.0\n",
       "181689    0.0\n",
       "181690    0.0\n",
       "Name: Casualties, Length: 181691, dtype: float64"
      ]
     },
     "execution_count": 159,
     "metadata": {},
     "output_type": "execute_result"
    }
   ],
   "source": [
    "df['Casualties']"
   ]
  },
  {
   "cell_type": "code",
   "execution_count": 160,
   "id": "0db85fc4",
   "metadata": {},
   "outputs": [
    {
     "data": {
      "image/png": "[encoded data removed]",
      "text/plain": [
       "<Figure size 1080x504 with 1 Axes>"
      ]
     },
     "metadata": {
      "needs_background": "light"
     },
     "output_type": "display_data"
    }
   ],
   "source": [
    "wounded= df.groupby('iyear').sum()['nwound'] # Top 15 years woth highest casualties.\n",
    "killed= df.groupby('iyear').sum()['nkill'] #Top 15 years with highest kills.\n",
    "\n",
    "wounded.plot(kind='bar', figsize=(15,7), fontsize=10, color=\"lightgreen\", label='wounded' )\n",
    "killed.plot(kind='bar', figsize=(15,7), fontsize=10, color=\"red\", label='kills' )\n",
    "plt.xlabel(\"year\",fontsize=15)\n",
    "plt.ylabel(\"Wounded and Killed\",fontsize=15)\n",
    "plt.title(\"Wounded vs Killed\",fontsize=15)\n",
    "plt.legend()\n",
    "plt.show()\n",
    "\n"
   ]
  },
  {
   "cell_type": "code",
   "execution_count": 161,
   "id": "d3631a1f",
   "metadata": {},
   "outputs": [],
   "source": [
    "#Groups and stores the total number of wounded people in the group of same year.\n",
    "wounded= df.groupby('region_txt').sum()['nwound'] \n",
    "\n",
    "#Groups and stores the total number of killed people in the group of same year.\n",
    "killed= df.groupby('region_txt').sum()['nkill'] "
   ]
  },
  {
   "cell_type": "code",
   "execution_count": 162,
   "id": "d6e72ec8",
   "metadata": {},
   "outputs": [
    {
     "data": {
      "image/png": "[encoded data removed]",
      "text/plain": [
       "<Figure size 1080x504 with 1 Axes>"
      ]
     },
     "metadata": {
      "needs_background": "light"
     },
     "output_type": "display_data"
    }
   ],
   "source": [
    "wounded.plot(kind='bar', figsize=(15,7), fontsize=10, color=\"green\", label='wounded' )\n",
    "\n",
    "killed.plot(kind='bar', figsize=(15,7), fontsize=10, color=\"black\", label='kills' )\n",
    "\n",
    "plt.xlabel(\"year\",fontsize=15)\n",
    "\n",
    "plt.ylabel(\"Wounded and Killed\",fontsize=15)\n",
    "\n",
    "plt.title(\"Wounded vs Killed\",fontsize=15)\n",
    "\n",
    "plt.legend()\n",
    "\n",
    "plt.xticks(rotation=45)\n",
    "\n",
    "plt.show()"
   ]
  },
  {
   "cell_type": "markdown",
   "id": "50aa11e9",
   "metadata": {},
   "source": [
    "### Highlights or summary of performed exploratory analysis.\n",
    "\n",
    "\n",
    "# ** Top 3 countries with most number of attacks are Iraq, Pakistan and Afghanistan.\n",
    "\n",
    "\n",
    "# ** Top 3 states with most number of attacks are Baghdad, Northern Ireland and the Unknown state.\n",
    "\n",
    "\n",
    "# ** Top 3 cities with most attacks are Unknown city, Karachi and Baghdad.\n",
    "\n",
    "\n",
    "# ** Top 3 regions with most number of attacks are Middle East and North Africa, South Asia and South America.\n",
    "\n",
    "\n",
    "# ** Year with most attacks is 2014.\n",
    "\n",
    "\n",
    "# ** Most frequent terrorist groups involved in the attacks are Taliban and Islamic state of Iraq and Levant(ISIL)"
   ]
  },
  {
   "cell_type": "markdown",
   "id": "0bf46151",
   "metadata": {},
   "source": [
    "# ** The most frequent attack found is Bombing/Explosion.\n",
    "\n",
    "\n",
    "# ** Most frequent target types are Private citizens and Military"
   ]
  }
 ],
 "metadata": {
  "kernelspec": {
   "display_name": "Python 3 (ipykernel)",
   "language": "python",
   "name": "python3"
  },
  "language_info": {
   "codemirror_mode": {
    "name": "ipython",
    "version": 3
   },
   "file_extension": ".py",
   "mimetype": "text/x-python",
   "name": "python",
   "nbconvert_exporter": "python",
   "pygments_lexer": "ipython3",
   "version": "3.9.7"
  }
 },
 "nbformat": 4,
 "nbformat_minor": 5
}
